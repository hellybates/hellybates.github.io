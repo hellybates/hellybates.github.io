{
 "cells": [
  {
   "cell_type": "markdown",
   "metadata": {
    "deletable": true,
    "editable": true
   },
   "source": [
    "# Publications markdown generator for academicpages\n",
    "\n",
    "Takes a TSV of publications with metadata and converts them for use with [academicpages.github.io](academicpages.github.io). This is an interactive Jupyter notebook ([see more info here](http://jupyter-notebook-beginner-guide.readthedocs.io/en/latest/what_is_jupyter.html)). The core python code is also in `publications.py`. Run either from the `markdown_generator` folder after replacing `publications.tsv` with one containing your data.\n",
    "\n",
    "TODO: Make this work with BibTex and other databases of citations, rather than Stuart's non-standard TSV format and citation style.\n"
   ]
  },
  {
   "cell_type": "markdown",
   "metadata": {},
   "source": [
    "## Data format\n",
    "\n",
    "The TSV needs to have the following columns: pub_date, title, venue, excerpt, citation, site_url, and paper_url, with a header at the top. \n",
    "\n",
    "- `excerpt` and `paper_url` can be blank, but the others must have values. \n",
    "- `pub_date` must be formatted as YYYY-MM-DD.\n",
    "- `url_slug` will be the descriptive part of the .md file and the permalink URL for the page about the paper. The .md file will be `YYYY-MM-DD-[url_slug].md` and the permalink will be `https://[yourdomain]/publications/YYYY-MM-DD-[url_slug]`\n",
    "\n",
    "This is how the raw file looks (it doesn't look pretty, use a spreadsheet or other program to edit and create)."
   ]
  },
  {
   "cell_type": "code",
   "execution_count": 108,
   "metadata": {
    "collapsed": false,
    "jupyter": {
     "outputs_hidden": false
    }
   },
   "outputs": [
    {
     "name": "stdout",
     "output_type": "stream",
     "text": [
      "pub_date\ttitle\tvenue\texcerpt\tcitation\turl_slug\tpaper_url\n",
      "2020\tLinking mineralogy and spectroscopy of highly aqueously altered CM and CI carbonaceous chondrites in preparation for primitive asteroid sample return\tMeteoritics and Planetary Science\tWe collected visible and near-infrared (VNIR) and mid infrared (MIR) reflectance spectra from well-characterized CM1/2, CM1, and CI1 chondrites and identified trends related to their mineralogy and degree of secondary processing.\t<b>Bates, H. C.,</b> King, A. J., Donaldson Hanna K. L., Bowles, N. E., and Russell, S. S.  (2020). Linking mineralogy and spectroscopy of highly aqueously altered CM and CI carbonaceous chondrites in preparation for primitive asteroid sample return, <i>Meteoritics and Planetary Science</i>. 55:77-101.\tBatesCM1\thttp://hellybates.github.io/files/Bates2020.pdf\n",
      "2021\tA Spectral Investigation of Aqueously and Thermally Altered CM, CM-An, and CY Chondrites Under Simulated Asteroid Conditions for Comparison With OSIRIS-REx and Hayabusa2 Observations\tJournal of Geophysical Research: Planets\tWe report midinfrared (MIR) emissivity spectra (5.5â€“50 Âµm) obtained under ambient and simulated asteroid environment conditions and near-infrared (NIR) reflectance spectra (2â€“5 Âµm) of CM and CY chondrite fine-particulate (<35 Âµm) powders for which bulk mineralogy was determined using X-ray diffraction.\t<b>Bates, H. C.,</b> Donaldson Hanna K. L., King, A. J.,  Bowles, N. E., and Russell, S. S. (2021). &quot;A Spectral Investigation of Aqueously and Thermally Altered CM, CM-An, and CY Chondrites Under Simulated Asteroid Conditions for Comparison With OSIRIS-REx and Hayabusa2 Observations.&quot; <i>Journal of Geophysical Research: Planets</i>. 126(7).\tBatesSpec\thttp://hellybates.github.io/files/Bates2021.pdf\n",
      "2019\tThe Yamato-type (CY) carbonaceous chondrite group: Analogues for the surface of asteroid Ryugu?\tGeochemistry\tWe introduce a new carbonaceous chondrite group, the CY chondrites, which have experienced aqueous and thermal alteration.\tKing, A. J., <b>Bates, H. C.,</b> Krietsch, D., Busemann, H., Clay, P. H., Schofield, P. F., Russell, S. S. (2019) &quot;The Yamato-type (CY) carbonaceous chondrite group: Analogues for the surface of asteroid Ryugu?.&quot; <i>Geochemistry</i>. 79:125531.\tKingCYs\thttp://hellybates.github.io/files/King2019.pdf\n"
     ]
    }
   ],
   "source": [
    "!type publications.tsv"
   ]
  },
  {
   "cell_type": "markdown",
   "metadata": {},
   "source": [
    "## Import pandas\n",
    "\n",
    "We are using the very handy pandas library for dataframes."
   ]
  },
  {
   "cell_type": "code",
   "execution_count": 109,
   "metadata": {
    "deletable": true,
    "editable": true,
    "tags": []
   },
   "outputs": [],
   "source": [
    "import pandas as pd"
   ]
  },
  {
   "cell_type": "markdown",
   "metadata": {},
   "source": [
    "## Import TSV\n",
    "\n",
    "Pandas makes this easy with the read_csv function. We are using a TSV, so we specify the separator as a tab, or `\\t`.\n",
    "\n",
    "I found it important to put this data in a tab-separated values format, because there are a lot of commas in this kind of data and comma-separated values can get messed up. However, you can modify the import statement, as pandas also has read_excel(), read_json(), and others."
   ]
  },
  {
   "cell_type": "code",
   "execution_count": 143,
   "metadata": {
    "collapsed": false,
    "deletable": true,
    "editable": true,
    "jupyter": {
     "outputs_hidden": false
    }
   },
   "outputs": [
    {
     "data": {
      "text/html": [
       "<div>\n",
       "<style scoped>\n",
       "    .dataframe tbody tr th:only-of-type {\n",
       "        vertical-align: middle;\n",
       "    }\n",
       "\n",
       "    .dataframe tbody tr th {\n",
       "        vertical-align: top;\n",
       "    }\n",
       "\n",
       "    .dataframe thead th {\n",
       "        text-align: right;\n",
       "    }\n",
       "</style>\n",
       "<table border=\"1\" class=\"dataframe\">\n",
       "  <thead>\n",
       "    <tr style=\"text-align: right;\">\n",
       "      <th></th>\n",
       "      <th>pub_date</th>\n",
       "      <th>title</th>\n",
       "      <th>venue</th>\n",
       "      <th>excerpt</th>\n",
       "      <th>citation</th>\n",
       "      <th>url_slug</th>\n",
       "      <th>paper_url</th>\n",
       "    </tr>\n",
       "  </thead>\n",
       "  <tbody>\n",
       "    <tr>\n",
       "      <th>0</th>\n",
       "      <td>2020-01-01</td>\n",
       "      <td>Linking mineralogy and spectroscopy of highly ...</td>\n",
       "      <td>Meteoritics and Planetary Science</td>\n",
       "      <td>NaN</td>\n",
       "      <td>&lt;b&gt;Bates, H. C.,&lt;/b&gt; King, A. J., Donaldson Ha...</td>\n",
       "      <td>BatesCM1</td>\n",
       "      <td>http://hellybates.github.io/files/Bates2020.pdf</td>\n",
       "    </tr>\n",
       "    <tr>\n",
       "      <th>1</th>\n",
       "      <td>2021-05-28</td>\n",
       "      <td>A Spectral Investigation of Aqueously and Ther...</td>\n",
       "      <td>Journal of Geophysical Research: Planets</td>\n",
       "      <td>NaN</td>\n",
       "      <td>&lt;b&gt;Bates, H. C.,&lt;/b&gt; Donaldson Hanna K. L., Ki...</td>\n",
       "      <td>BatesSpec</td>\n",
       "      <td>http://hellybates.github.io/files/Bates2021.pdf</td>\n",
       "    </tr>\n",
       "    <tr>\n",
       "      <th>2</th>\n",
       "      <td>2019-12-01</td>\n",
       "      <td>The Yamato-type (CY) carbonaceous chondrite gr...</td>\n",
       "      <td>Geochemistry</td>\n",
       "      <td>NaN</td>\n",
       "      <td>King, A. J., &lt;b&gt;Bates, H. C.,&lt;/b&gt; Krietsch, D....</td>\n",
       "      <td>KingCYs</td>\n",
       "      <td>http://hellybates.github.io/files/King2019.pdf</td>\n",
       "    </tr>\n",
       "    <tr>\n",
       "      <th>3</th>\n",
       "      <td>2021-04-15</td>\n",
       "      <td>The aqueous alteration of CM chondrites, a review</td>\n",
       "      <td>Geochimica et Cosmochimica Acta</td>\n",
       "      <td>NaN</td>\n",
       "      <td>Suttle, M. D., King, A. J., Schofield, P. F., ...</td>\n",
       "      <td>SuttleCM</td>\n",
       "      <td>http://hellybates.github.io/files/Suttle2021.pdf</td>\n",
       "    </tr>\n",
       "    <tr>\n",
       "      <th>4</th>\n",
       "      <td>2022-11-16</td>\n",
       "      <td>The Winchcombe meteorite, a unique and pristin...</td>\n",
       "      <td>Science Advances</td>\n",
       "      <td>NaN</td>\n",
       "      <td>King., A. J., Daly, L., Rowe., R., Joy, K. H.,...</td>\n",
       "      <td>KingWinchcombe</td>\n",
       "      <td>http://hellybates.github.io/files/King2022.pdf</td>\n",
       "    </tr>\n",
       "  </tbody>\n",
       "</table>\n",
       "</div>"
      ],
      "text/plain": [
       "     pub_date                                              title  \\\n",
       "0  2020-01-01  Linking mineralogy and spectroscopy of highly ...   \n",
       "1  2021-05-28  A Spectral Investigation of Aqueously and Ther...   \n",
       "2  2019-12-01  The Yamato-type (CY) carbonaceous chondrite gr...   \n",
       "3  2021-04-15  The aqueous alteration of CM chondrites, a review   \n",
       "4  2022-11-16  The Winchcombe meteorite, a unique and pristin...   \n",
       "\n",
       "                                      venue  excerpt  \\\n",
       "0         Meteoritics and Planetary Science      NaN   \n",
       "1  Journal of Geophysical Research: Planets      NaN   \n",
       "2                              Geochemistry      NaN   \n",
       "3           Geochimica et Cosmochimica Acta      NaN   \n",
       "4                          Science Advances      NaN   \n",
       "\n",
       "                                            citation        url_slug  \\\n",
       "0  <b>Bates, H. C.,</b> King, A. J., Donaldson Ha...        BatesCM1   \n",
       "1  <b>Bates, H. C.,</b> Donaldson Hanna K. L., Ki...       BatesSpec   \n",
       "2  King, A. J., <b>Bates, H. C.,</b> Krietsch, D....         KingCYs   \n",
       "3  Suttle, M. D., King, A. J., Schofield, P. F., ...        SuttleCM   \n",
       "4  King., A. J., Daly, L., Rowe., R., Joy, K. H.,...  KingWinchcombe   \n",
       "\n",
       "                                          paper_url  \n",
       "0   http://hellybates.github.io/files/Bates2020.pdf  \n",
       "1   http://hellybates.github.io/files/Bates2021.pdf  \n",
       "2    http://hellybates.github.io/files/King2019.pdf  \n",
       "3  http://hellybates.github.io/files/Suttle2021.pdf  \n",
       "4    http://hellybates.github.io/files/King2022.pdf  "
      ]
     },
     "execution_count": 143,
     "metadata": {},
     "output_type": "execute_result"
    }
   ],
   "source": [
    "publications = pd.read_csv(\"publications.tsv\", sep=\"\\t\", header=0)\n",
    "publications\n"
   ]
  },
  {
   "cell_type": "markdown",
   "metadata": {},
   "source": [
    "## Escape special characters\n",
    "\n",
    "YAML is very picky about how it takes a valid string, so we are replacing single and double quotes (and ampersands) with their HTML encoded equivilents. This makes them look not so readable in raw format, but they are parsed and rendered nicely."
   ]
  },
  {
   "cell_type": "code",
   "execution_count": 144,
   "metadata": {
    "deletable": true,
    "editable": true,
    "tags": []
   },
   "outputs": [],
   "source": [
    "html_escape_table = {\n",
    "    \"&\": \"&amp;\",\n",
    "    '\"': \"&quot;\",\n",
    "    \"'\": \"&apos;\"\n",
    "    }\n",
    "\n",
    "def html_escape(text):\n",
    "    \"\"\"Produce entities within text.\"\"\"\n",
    "    return \"\".join(html_escape_table.get(c,c) for c in text)"
   ]
  },
  {
   "cell_type": "markdown",
   "metadata": {},
   "source": [
    "## Creating the markdown files\n",
    "\n",
    "This is where the heavy lifting is done. This loops through all the rows in the TSV dataframe, then starts to concatentate a big string (```md```) that contains the markdown for each type. It does the YAML metadata first, then does the description for the individual page."
   ]
  },
  {
   "cell_type": "code",
   "execution_count": 145,
   "metadata": {
    "collapsed": false,
    "deletable": true,
    "editable": true,
    "jupyter": {
     "outputs_hidden": false
    }
   },
   "outputs": [],
   "source": [
    "import os\n",
    "for row, item in publications.iterrows():\n",
    "\n",
    "    md_filename = str(item.pub_date) + \"-\" + item.url_slug + \".md\"\n",
    "    html_filename = str(item.pub_date) + \"-\" + item.url_slug\n",
    "    year = item.pub_date[:4]\n",
    "    \n",
    "    ## YAML variables\n",
    "    \n",
    "    md = \"---\\ntitle: \\\"\"   + item.title + '\"\\n'\n",
    "    \n",
    "    md += \"\"\"collection: publications\"\"\"\n",
    "    \n",
    "    md += \"\"\"\\npermalink: /publication/\"\"\" + html_filename\n",
    "    \n",
    "    if len(str(item.excerpt)) > 5:\n",
    "        md += \"\\nexcerpt: '\" + html_escape(item.excerpt) + \"'\"\n",
    "    \n",
    "    md += \"\\ndate: \" + str(item.pub_date) \n",
    "    \n",
    "    md += \"\\nvenue: '\" + html_escape(item.venue) + \"'\"\n",
    "    \n",
    "    if len(str(item.paper_url)) > 5:\n",
    "        md += \"\\npaperurl: '\" + item.paper_url + \"'\"\n",
    "    \n",
    "    md += \"\\ncitation: '\" + html_escape(item.citation) + \"'\"\n",
    "    \n",
    "    md += \"\\n---\"\n",
    "    \n",
    "    ## Markdown description for individual page\n",
    "        \n",
    "    if len(str(item.excerpt)) > 5:\n",
    "        md += \"\\n\" + html_escape(item.excerpt) + \"\\n\"\n",
    "    \n",
    "    if len(str(item.paper_url)) > 5:\n",
    "        md += \"\\n[Download paper here](\" + item.paper_url + \")\\n\" \n",
    "        \n",
    "    #md += \"\\nRecommended citation: \" + item.citation\n",
    "    md +=  item.citation\n",
    "    \n",
    "    md_filename = os.path.basename(md_filename)\n",
    "       \n",
    "    with open(\"../_publications/\" + md_filename, 'w') as f:\n",
    "        f.write(md)"
   ]
  },
  {
   "cell_type": "markdown",
   "metadata": {},
   "source": [
    "These files are in the publications directory, one directory below where we're working from."
   ]
  },
  {
   "cell_type": "code",
   "execution_count": 146,
   "metadata": {
    "collapsed": false,
    "deletable": true,
    "editable": true,
    "jupyter": {
     "outputs_hidden": false
    }
   },
   "outputs": [
    {
     "name": "stdout",
     "output_type": "stream",
     "text": [
      " Volume in drive C has no label.\n",
      " Volume Serial Number is D0E7-FD37\n",
      "\n",
      " Directory of C:\\Users\\heleb3\\Documents\\GitHub\\hellybates.github.io\\_publications\n",
      "\n",
      "15/06/2023  11:00    <DIR>          .\n",
      "15/06/2023  11:00    <DIR>          ..\n",
      "15/06/2023  11:18               856 2019-12-01-KingCYs.md\n",
      "15/06/2023  11:18             1,056 2020-01-01-BatesCM1.md\n",
      "15/06/2023  11:18               730 2021-04-15-SuttleCM.md\n",
      "15/06/2023  11:18             1,169 2021-05-28-BatesSpec.md\n",
      "15/06/2023  11:18               943 2022-11-16-KingWinchcombe.md\n",
      "               5 File(s)          4,754 bytes\n",
      "               2 Dir(s)  32,701,579,264 bytes free\n"
     ]
    }
   ],
   "source": [
    "!dir C:\\Users\\heleb3\\Documents\\GitHub\\hellybates.github.io\\_publications\\"
   ]
  },
  {
   "cell_type": "code",
   "execution_count": 147,
   "metadata": {
    "collapsed": false,
    "deletable": true,
    "editable": true,
    "jupyter": {
     "outputs_hidden": false
    }
   },
   "outputs": [
    {
     "name": "stdout",
     "output_type": "stream",
     "text": [
      "---\n",
      "title: \"Linking mineralogy and spectroscopy of highly aqueously altered CM and CI carbonaceous chondrites in preparation for primitive asteroid sample return\"\n",
      "collection: publications\n",
      "permalink: /publication/2020-01-01-BatesCM1\n",
      "date: 2020-01-01\n",
      "venue: 'Meteoritics and Planetary Science'\n",
      "paperurl: 'http://hellybates.github.io/files/Bates2020.pdf'\n",
      "citation: '<b>Bates, H. C.,</b> King, A. J., Donaldson Hanna K. L., Bowles, N. E., and Russell, S. S.  (2020). Linking mineralogy and spectroscopy of highly aqueously altered CM and CI carbonaceous chondrites in preparation for primitive asteroid sample return, <i>Meteoritics and Planetary Science</i>. 55:77-101.'\n",
      "---\n",
      "[Download paper here](http://hellybates.github.io/files/Bates2020.pdf)\n",
      "<b>Bates, H. C.,</b> King, A. J., Donaldson Hanna K. L., Bowles, N. E., and Russell, S. S.  (2020). Linking mineralogy and spectroscopy of highly aqueously altered CM and CI carbonaceous chondrites in preparation for primitive asteroid sample return, <i>Meteoritics and Planetary Science</i>. 55:77-101.\n"
     ]
    }
   ],
   "source": [
    "!type ..\\_publications\\2020-01-01-BatesCM1.md"
   ]
  },
  {
   "cell_type": "code",
   "execution_count": null,
   "metadata": {
    "collapsed": true,
    "deletable": true,
    "editable": true,
    "jupyter": {
     "outputs_hidden": true
    }
   },
   "outputs": [],
   "source": []
  }
 ],
 "metadata": {
  "kernelspec": {
   "display_name": "Python 3 (ipykernel)",
   "language": "python",
   "name": "python3"
  },
  "language_info": {
   "codemirror_mode": {
    "name": "ipython",
    "version": 3
   },
   "file_extension": ".py",
   "mimetype": "text/x-python",
   "name": "python",
   "nbconvert_exporter": "python",
   "pygments_lexer": "ipython3",
   "version": "3.9.13"
  }
 },
 "nbformat": 4,
 "nbformat_minor": 4
}
